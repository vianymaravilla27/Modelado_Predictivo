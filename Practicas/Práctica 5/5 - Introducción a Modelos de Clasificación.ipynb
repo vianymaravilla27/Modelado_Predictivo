{
 "cells": [
  {
   "cell_type": "code",
   "execution_count": 333,
   "metadata": {},
   "outputs": [],
   "source": [
    "# Execute if necessary\n",
    "# %%capture\n",
    "# !pip install numpy seaborn matplotlib pandas openml"
   ]
  },
  {
   "cell_type": "code",
   "execution_count": 334,
   "metadata": {},
   "outputs": [],
   "source": [
    "import numpy as np\n",
    "import seaborn as sns\n",
    "import matplotlib.pyplot as plt\n",
    "import pandas as pd\n",
    "from typing import Dict, Tuple, Union, List\n",
    "import openml\n",
    "import sklearn\n",
    "from sklearn.preprocessing import LabelEncoder"
   ]
  },
  {
   "cell_type": "markdown",
   "metadata": {},
   "source": [
    "# Práctica 5: Introducción a Modelos de Clasificación"
   ]
  },
  {
   "cell_type": "markdown",
   "metadata": {},
   "source": [
    "__Instrucciones__: A continuación hay una lista de funciones que debe implementar o tareas que debe desarrollar. La descripción de cada una de ellas se encuentra en la definición de cada una de las funciones.\n",
    "\n",
    "La entrega de la práctica será en la siguiente sesión a menos que la indicación sea otra. La revisión iniciará al iniciar la sesión y únicamente podrá ser evaluada durante la duración de la sesión."
   ]
  },
  {
   "cell_type": "markdown",
   "metadata": {},
   "source": [
    "## Asignación 1\n",
    "\n",
    "Implemente una clase  que permita ajustar un modelo KNN. La clase debe cumplir con los siguientes requisitos:\n",
    "\n",
    "- Debe contar con un método para realizar el entrenamiento en caso de ser requerido.\n",
    "- Debe contar con un método para realizar las predicciones.\n",
    "- Cada método debe imprimir una barra de progreso que permita conocer el tiempo estimado en que terminará.\n",
    "- La clase debe permitir el uso de la distancia Mikownski y similitud coseno."
   ]
  },
  {
   "cell_type": "markdown",
   "metadata": {},
   "source": [
    "El algoritmo k-vecinos más cercanos (KNN) es un simple algoritmo de aprendizaje automático supervisado que se puede utilizar para resolver problemas de clasificación y regresión. Es fácil de implementar y comprender, pero tiene un inconveniente importante de volverse significativamente más lento a medida que crece el tamaño de los datos en uso.\n",
    "\n",
    "KNN trabaja buscando las distancias entre una consulta y todos los ejemplos en los datos, seleccionando el número especificado ejemplos (K) más cercanos a la consulta, luego vota por la etiqueta más frecuente (en el caso de la clasificación) o promedia las etiquetas (en el caso de la regresión).\n",
    "\n",
    "En el caso de la clasificación y la regresión, vimos esa elección la K correcta para nuestros datos se hace probando varios Ks y escogiendo el que mejor funciona."
   ]
  },
  {
   "cell_type": "markdown",
   "metadata": {},
   "source": [
    "__Clase implementada de KNN__"
   ]
  },
  {
   "cell_type": "code",
   "execution_count": 335,
   "metadata": {},
   "outputs": [],
   "source": [
    "import time\n",
    "import numpy as np\n",
    "import pandas as pd\n",
    "from sklearn.metrics.pairwise import cosine_distances\n",
    "\n",
    "class KNN:\n",
    "    def __init__(self, n_neighbors=5, metric='euclidean', p=2):\n",
    "        self.n_neighbors = n_neighbors\n",
    "        self.metric = metric\n",
    "        self.p = p\n",
    "        \n",
    "    def fit(self, x_train, y_train):\n",
    "        self.x_train = x_train\n",
    "        self.y_train = y_train\n",
    "    \n",
    "    def predict(self, x_test):\n",
    "        start_time = time.time()\n",
    "        n_samples = len(x_test)\n",
    "        y_pred = np.zeros(n_samples)\n",
    "        \n",
    "        if self.metric == 'euclidean':\n",
    "            for i, x in enumerate(x_test):\n",
    "                distances = np.sqrt(np.sum((self.x_train - x) ** 2, axis=1))\n",
    "                nearest_neighbors = np.argsort(distances)[:self.n_neighbors]\n",
    "                nearest_labels = self.y_train.iloc[nearest_neighbors]\n",
    "                y_pred[i] = nearest_labels.mode()[0]\n",
    "                elapsed_time = time.time() - start_time\n",
    "                print(f\"Progress: {i+1}/{n_samples} - Elapsed Time: {elapsed_time:.2f} seconds\")\n",
    "        \n",
    "        elif self.metric == 'cosine':\n",
    "            x_train_norm = np.linalg.norm(self.x_train, axis=1)\n",
    "            x_test_norm = np.linalg.norm(x_test, axis=1)\n",
    "            for i, x in enumerate(x_test):\n",
    "                similarities = 1 - cosine_distances(x.reshape(1, -1), self.x_train)[0]\n",
    "                nearest_neighbors = np.argsort(similarities)[::-1][:self.n_neighbors]\n",
    "                nearest_labels = self.y_train.iloc[nearest_neighbors]\n",
    "                y_pred[i] = nearest_labels.mode()[0]\n",
    "                elapsed_time = time.time() - start_time\n",
    "                print(f\"Progress: {i+1}/{n_samples} - Elapsed Time: {elapsed_time:.2f} seconds\")\n",
    "        \n",
    "        elif self.metric == 'minkowski':\n",
    "            for i, x in enumerate(x_test):\n",
    "                distances = np.power(np.sum(np.power(np.abs(self.x_train - x), self.p), axis=1), 1/self.p)\n",
    "                nearest_neighbors = np.argsort(distances)[:self.n_neighbors]\n",
    "                nearest_labels = self.y_train.iloc[nearest_neighbors]\n",
    "                y_pred[i] = nearest_labels.mode()[0]\n",
    "                elapsed_time = time.time() - start_time\n",
    "                print(f\"Progress: {i+1}/{n_samples} - Elapsed Time: {elapsed_time:.2f} seconds\")\n",
    "        \n",
    "        return y_pred\n"
   ]
  },
  {
   "cell_type": "markdown",
   "metadata": {},
   "source": [
    "## Asignación 2\n",
    "\n",
    "Implemente una clase que permita ajustar un modelo Naive Bayes. La clase debe cumplir con los siguientes requisitos:\n",
    "\n",
    "- Debe contar con un método para realizar el entrenamiento en caso de ser requerido.\n",
    "- Debe contar con un método para realizar las predicciones.\n",
    "- Cada método debe imprimir una barra de progreso que permita conocer el tiempo estimado en que terminará."
   ]
  },
  {
   "cell_type": "markdown",
   "metadata": {},
   "source": [
    "En esta sección se incluye un dataset real. El dataset importado se llama _spambase_ y puede leer su descripción en la siguiente liga\n",
    "\n",
    "https://www.openml.org/d/42904"
   ]
  },
  {
   "cell_type": "code",
   "execution_count": 336,
   "metadata": {},
   "outputs": [],
   "source": [
    "# Descarga la metadata del dataset\n",
    "dataset_info = openml.datasets.get_dataset(42904, download_data=False)\n",
    "\n",
    "target = \"CLASS\"\n",
    "\n",
    "(\n",
    "    features, # Dataframe con las características que se pueden utilizar para predecir\n",
    "    outputs, # Columna a predecir\n",
    "    _, # Máscara que indica que columnas de todas las características son categoricas\n",
    "    columns # Lista con el nombre de las características\n",
    ")= dataset_info.get_data(\n",
    "    dataset_format=\"dataframe\", target=target\n",
    ")\n",
    "\n",
    "columns = np.array(columns)"
   ]
  },
  {
   "cell_type": "code",
   "execution_count": 337,
   "metadata": {},
   "outputs": [
    {
     "name": "stdout",
     "output_type": "stream",
     "text": [
      "La columna a predecir se llama 'CLASS'\n",
      "Todas las características son ['COMMENT_ID' 'AUTHOR' 'DATE' 'CONTENT']\n"
     ]
    }
   ],
   "source": [
    "print(f\"La columna a predecir se llama '{target}'\")\n",
    "print(f\"Todas las características son {str(columns)}\")"
   ]
  },
  {
   "cell_type": "code",
   "execution_count": 338,
   "metadata": {},
   "outputs": [],
   "source": [
    "# Impresión de las características\n",
    "features\n",
    "# Eliminar las características que no se pueden utilizar para predecir\n",
    "features = features.drop(columns=[\"COMMENT_ID\", \"AUTHOR\", \"DATE\"])"
   ]
  },
  {
   "cell_type": "code",
   "execution_count": 339,
   "metadata": {},
   "outputs": [
    {
     "data": {
      "text/html": [
       "<div>\n",
       "<style scoped>\n",
       "    .dataframe tbody tr th:only-of-type {\n",
       "        vertical-align: middle;\n",
       "    }\n",
       "\n",
       "    .dataframe tbody tr th {\n",
       "        vertical-align: top;\n",
       "    }\n",
       "\n",
       "    .dataframe thead th {\n",
       "        text-align: right;\n",
       "    }\n",
       "</style>\n",
       "<table border=\"1\" class=\"dataframe\">\n",
       "  <thead>\n",
       "    <tr style=\"text-align: right;\">\n",
       "      <th></th>\n",
       "      <th>CONTENT</th>\n",
       "    </tr>\n",
       "  </thead>\n",
       "  <tbody>\n",
       "    <tr>\n",
       "      <th>0</th>\n",
       "      <td>Huh, anyway check out this you[tube] channel: ...</td>\n",
       "    </tr>\n",
       "    <tr>\n",
       "      <th>1</th>\n",
       "      <td>Hey guys check out my new channel and our firs...</td>\n",
       "    </tr>\n",
       "    <tr>\n",
       "      <th>2</th>\n",
       "      <td>just for test I have to say murdev.com</td>\n",
       "    </tr>\n",
       "    <tr>\n",
       "      <th>3</th>\n",
       "      <td>me shaking my sexy ass on my channel enjoy ^_^ ﻿</td>\n",
       "    </tr>\n",
       "    <tr>\n",
       "      <th>4</th>\n",
       "      <td>watch?v=vtaRGgvGtWQ   Check this out .﻿</td>\n",
       "    </tr>\n",
       "    <tr>\n",
       "      <th>...</th>\n",
       "      <td>...</td>\n",
       "    </tr>\n",
       "    <tr>\n",
       "      <th>345</th>\n",
       "      <td>How can this have 2 billion views when there's...</td>\n",
       "    </tr>\n",
       "    <tr>\n",
       "      <th>346</th>\n",
       "      <td>I don't now why I'm watching this in 2014﻿</td>\n",
       "    </tr>\n",
       "    <tr>\n",
       "      <th>347</th>\n",
       "      <td>subscribe to me for call of duty vids and give...</td>\n",
       "    </tr>\n",
       "    <tr>\n",
       "      <th>348</th>\n",
       "      <td>hi guys please my android photo editor downloa...</td>\n",
       "    </tr>\n",
       "    <tr>\n",
       "      <th>349</th>\n",
       "      <td>The first billion viewed this because they tho...</td>\n",
       "    </tr>\n",
       "  </tbody>\n",
       "</table>\n",
       "<p>350 rows × 1 columns</p>\n",
       "</div>"
      ],
      "text/plain": [
       "                                               CONTENT\n",
       "0    Huh, anyway check out this you[tube] channel: ...\n",
       "1    Hey guys check out my new channel and our firs...\n",
       "2               just for test I have to say murdev.com\n",
       "3     me shaking my sexy ass on my channel enjoy ^_^ ﻿\n",
       "4              watch?v=vtaRGgvGtWQ   Check this out .﻿\n",
       "..                                                 ...\n",
       "345  How can this have 2 billion views when there's...\n",
       "346         I don't now why I'm watching this in 2014﻿\n",
       "347  subscribe to me for call of duty vids and give...\n",
       "348  hi guys please my android photo editor downloa...\n",
       "349  The first billion viewed this because they tho...\n",
       "\n",
       "[350 rows x 1 columns]"
      ]
     },
     "execution_count": 339,
     "metadata": {},
     "output_type": "execute_result"
    }
   ],
   "source": [
    "prefeatures = features\n",
    "features"
   ]
  },
  {
   "cell_type": "markdown",
   "metadata": {},
   "source": [
    "__Implementacion de NaiveBayes__"
   ]
  },
  {
   "cell_type": "code",
   "execution_count": 340,
   "metadata": {},
   "outputs": [],
   "source": [
    "import math\n",
    "from collections import defaultdict\n",
    "from sklearn.feature_extraction.text import CountVectorizer\n",
    "from sklearn.metrics import accuracy_score\n",
    "from tqdm import tqdm\n",
    "\n",
    "\n",
    "class NaiveBayesClassifier:\n",
    "    def __init__(self, max_features=4000):\n",
    "        self.max_features = max_features\n",
    "        self.vec = CountVectorizer(max_features=self.max_features)\n",
    "        self.vocab = None\n",
    "        self.word_counts = None\n",
    "        self.n_label_items = None\n",
    "        self.log_label_priors = None\n",
    "    \n",
    "    def _laplace_smoothing(self, n_label_items, vocab, word_counts, word, text_label):\n",
    "        a = word_counts[text_label][word] + 1\n",
    "        b = n_label_items[text_label] + len(vocab)\n",
    "        return math.log(a/b)\n",
    "    \n",
    "    def _group_by_label(self, x, y, labels):\n",
    "        data = {}\n",
    "        for l in labels:\n",
    "            data[l] = x[np.where(y == l)]\n",
    "        return data\n",
    "    \n",
    "    def fit(self, x, y):\n",
    "        labels = list(set(y))\n",
    "        X = self.vec.fit_transform(x)\n",
    "        self.vocab = self.vec.get_feature_names_out()\n",
    "        X = X.toarray()\n",
    "        self.word_counts = {}\n",
    "        for l in range(len(labels)):\n",
    "            self.word_counts[l] = defaultdict(lambda: 0)\n",
    "        for i in tqdm(range(X.shape[0]), desc=\"Counting words\"):\n",
    "            l = y[i]\n",
    "            for j in range(len(self.vocab)):\n",
    "                self.word_counts[l][self.vocab[j]] += X[i][j]\n",
    "        self.n_label_items = {}\n",
    "        self.log_label_priors = {}\n",
    "        n = len(x)\n",
    "        grouped_data = self._group_by_label(X, y, labels)\n",
    "        for l, data in grouped_data.items():\n",
    "            self.n_label_items[l] = len(data)\n",
    "            self.log_label_priors[l] = math.log(self.n_label_items[l] / n)\n",
    "    \n",
    "    def predict(self, x):\n",
    "        result = []\n",
    "        for text in tqdm(x, desc=\"Predicting\"):\n",
    "            label_scores = {l: self.log_label_priors[l] for l in self.n_label_items.keys()}\n",
    "            words = set(self.vec.build_tokenizer()(text))\n",
    "            for word in words:\n",
    "                if word not in self.vocab: continue\n",
    "                for l in self.n_label_items.keys():\n",
    "                    log_w_given_l = self._laplace_smoothing(self.n_label_items, self.vocab, self.word_counts, word, l)\n",
    "                    label_scores[l] += log_w_given_l\n",
    "            result.append(max(label_scores, key=label_scores.get))\n",
    "        return result\n"
   ]
  },
  {
   "cell_type": "markdown",
   "metadata": {},
   "source": [
    "## Asignación 3\n",
    "\n",
    "Realice el preprocesamiento que considere adecuado para que el dataset pueda ser procesado por un modelo de clasificación. __No olvide utilizar particionar en entrenamiento y validación, y realizar el preprocesamiento de manera adecuada__."
   ]
  },
  {
   "cell_type": "code",
   "execution_count": 341,
   "metadata": {},
   "outputs": [],
   "source": [
    "#unir en un solo dataframe las caracteristicas y la columna a predecir\n",
    "data = pd.concat([features, outputs], axis=1)"
   ]
  },
  {
   "cell_type": "markdown",
   "metadata": {},
   "source": [
    "__Preprocesamiento elegido ->__"
   ]
  },
  {
   "cell_type": "code",
   "execution_count": 342,
   "metadata": {},
   "outputs": [
    {
     "name": "stdout",
     "output_type": "stream",
     "text": [
      "                                               CONTENT  CLASS\n",
      "0          huh anyway check youtube channel kobyoshi02      1\n",
      "1    hey guy check new channel first vid u monkey i...      1\n",
      "2                                   test say murdevcom      1\n",
      "3                      shaking sexy as channel enjoy _      1\n",
      "4                              watchvvtarggvgtwq check      1\n",
      "..                                                 ...    ...\n",
      "345                    2 billion view there planet lol      0\n",
      "346                              dont im watching 2014      0\n",
      "347    subscribe call duty vids give aways goal100 sub      1\n",
      "348  hi guy please android photo editor download th...      1\n",
      "349  first billion viewed thought really cool billi...      0\n",
      "\n",
      "[350 rows x 2 columns]\n"
     ]
    }
   ],
   "source": [
    "import pandas as pd\n",
    "import numpy as np\n",
    "import re\n",
    "import nltk\n",
    "\n",
    "# Separa los comentarios y etiquetas en dos arrays diferentes\n",
    "\n",
    "comentarios = data['CONTENT']\n",
    "etiquetas = data['CLASS']\n",
    "\n",
    "def preprocesar_comentarios(comentarios):\n",
    "    # Elimina caracteres no deseados\n",
    "    comentarios = comentarios.apply(lambda x: re.sub(r'[^\\w\\s]', '', x))\n",
    "    #cambiar las url por la palabra url\n",
    "    comentarios = comentarios.apply(lambda x: re.sub(r'http[s]://.', 'url', x, flags=re.MULTILINE))\n",
    "    # Convierte a minúsculas\n",
    "    comentarios = comentarios.apply(lambda x: x.lower())\n",
    "    # Elimina stopwords\n",
    "    stopwords = nltk.corpus.stopwords.words('english')\n",
    "    comentarios = comentarios.apply(lambda x: ' '.join([word for word in x.split() if word not in (stopwords)]))\n",
    "    # Lematiza palabras\n",
    "    lemmatizer = nltk.WordNetLemmatizer()\n",
    "    comentarios = comentarios.apply(lambda x: ' '.join([lemmatizer.lemmatize(word) for word in x.split()]))\n",
    "    return comentarios\n",
    "\n",
    "comentarios = preprocesar_comentarios(comentarios)\n",
    "#concatener comentarios + etiquetas en un solo dataframe\n",
    "data = pd.concat([comentarios, etiquetas], axis=1)\n",
    "print(data)\n"
   ]
  },
  {
   "cell_type": "markdown",
   "metadata": {},
   "source": [
    "## Asignación 4\n",
    "\n",
    "Realice una visualización de los datos en dos dimensiones. Posteriormente entrene un modelo de KNN (utilizando la clase implementada anteriormente) y valide que su modelo generaliza bien."
   ]
  },
  {
   "cell_type": "markdown",
   "metadata": {},
   "source": [
    "---------------------------------"
   ]
  },
  {
   "cell_type": "code",
   "execution_count": 343,
   "metadata": {},
   "outputs": [],
   "source": [
    "from gensim.models.doc2vec import Doc2Vec, TaggedDocument\n",
    "from nltk.tokenize import word_tokenize\n",
    "from sklearn.model_selection import train_test_split"
   ]
  },
  {
   "cell_type": "code",
   "execution_count": 344,
   "metadata": {},
   "outputs": [],
   "source": [
    "#instalar punkt\n",
    "#nltk.download('punkt')"
   ]
  },
  {
   "cell_type": "code",
   "execution_count": 345,
   "metadata": {},
   "outputs": [],
   "source": [
    "def etiquetar_documentos(docs):\n",
    "    return [TaggedDocument(words=word_tokenize(doc.lower()), tags=[str(i)]) for i, doc in enumerate(docs)]\n",
    "\n",
    "# Función para entrenar el modelo Doc2Vec\n",
    "def entrenar_doc2vec(docs):\n",
    "    docs_etiquetados = etiquetar_documentos(docs)\n",
    "    modelo = Doc2Vec(vector_size=500, min_count=5, epochs=100)\n",
    "    modelo.build_vocab(docs_etiquetados)\n",
    "    modelo.train(docs_etiquetados, total_examples=modelo.corpus_count, epochs=modelo.epochs)\n",
    "    return modelo\n",
    "\n",
    "modelo_doc2vec = entrenar_doc2vec(comentarios)\n",
    "def preprocesar_comentario(comentario):\n",
    "    tokens = word_tokenize(comentario.lower())\n",
    "    return modelo_doc2vec.infer_vector(tokens)\n",
    "\n",
    "#prepro\n",
    "comentarios_preprocesados = [preprocesar_comentario(comentario) for comentario in comentarios]\n",
    "\n",
    "# Divide los datos en conjuntos de entrenamiento y prueba\n",
    "X_train, X_test, y_train, y_test = train_test_split(comentarios_preprocesados, etiquetas, test_size=0.2, random_state=42)"
   ]
  },
  {
   "cell_type": "code",
   "execution_count": 348,
   "metadata": {},
   "outputs": [
    {
     "name": "stdout",
     "output_type": "stream",
     "text": [
      "Progress: 1/70 - Elapsed Time: 0.00 seconds\n",
      "Progress: 2/70 - Elapsed Time: 0.00 seconds\n",
      "Progress: 3/70 - Elapsed Time: 0.00 seconds\n",
      "Progress: 4/70 - Elapsed Time: 0.01 seconds\n",
      "Progress: 5/70 - Elapsed Time: 0.01 seconds\n",
      "Progress: 6/70 - Elapsed Time: 0.01 seconds\n",
      "Progress: 7/70 - Elapsed Time: 0.01 seconds\n",
      "Progress: 8/70 - Elapsed Time: 0.01 seconds\n",
      "Progress: 9/70 - Elapsed Time: 0.01 seconds\n",
      "Progress: 10/70 - Elapsed Time: 0.01 seconds\n",
      "Progress: 11/70 - Elapsed Time: 0.01 seconds\n",
      "Progress: 12/70 - Elapsed Time: 0.01 seconds\n",
      "Progress: 13/70 - Elapsed Time: 0.01 seconds\n",
      "Progress: 14/70 - Elapsed Time: 0.01 seconds\n",
      "Progress: 15/70 - Elapsed Time: 0.01 seconds\n",
      "Progress: 16/70 - Elapsed Time: 0.02 seconds\n",
      "Progress: 17/70 - Elapsed Time: 0.02 seconds\n",
      "Progress: 18/70 - Elapsed Time: 0.02 seconds\n",
      "Progress: 19/70 - Elapsed Time: 0.02 seconds\n",
      "Progress: 20/70 - Elapsed Time: 0.02 seconds\n",
      "Progress: 21/70 - Elapsed Time: 0.02 seconds\n",
      "Progress: 22/70 - Elapsed Time: 0.02 seconds\n",
      "Progress: 23/70 - Elapsed Time: 0.02 seconds\n",
      "Progress: 24/70 - Elapsed Time: 0.02 seconds\n",
      "Progress: 25/70 - Elapsed Time: 0.02 seconds\n",
      "Progress: 26/70 - Elapsed Time: 0.02 seconds\n",
      "Progress: 27/70 - Elapsed Time: 0.02 seconds\n",
      "Progress: 28/70 - Elapsed Time: 0.02 seconds\n",
      "Progress: 29/70 - Elapsed Time: 0.03 seconds\n",
      "Progress: 30/70 - Elapsed Time: 0.03 seconds\n",
      "Progress: 31/70 - Elapsed Time: 0.03 seconds\n",
      "Progress: 32/70 - Elapsed Time: 0.03 seconds\n",
      "Progress: 33/70 - Elapsed Time: 0.03 seconds\n",
      "Progress: 34/70 - Elapsed Time: 0.03 seconds\n",
      "Progress: 35/70 - Elapsed Time: 0.03 seconds\n",
      "Progress: 36/70 - Elapsed Time: 0.03 seconds\n",
      "Progress: 37/70 - Elapsed Time: 0.03 seconds\n",
      "Progress: 38/70 - Elapsed Time: 0.03 seconds\n",
      "Progress: 39/70 - Elapsed Time: 0.03 seconds\n",
      "Progress: 40/70 - Elapsed Time: 0.03 seconds\n",
      "Progress: 41/70 - Elapsed Time: 0.03 seconds\n",
      "Progress: 42/70 - Elapsed Time: 0.03 seconds\n",
      "Progress: 43/70 - Elapsed Time: 0.04 seconds\n",
      "Progress: 44/70 - Elapsed Time: 0.04 seconds\n",
      "Progress: 45/70 - Elapsed Time: 0.04 seconds\n",
      "Progress: 46/70 - Elapsed Time: 0.04 seconds\n",
      "Progress: 47/70 - Elapsed Time: 0.04 seconds\n",
      "Progress: 48/70 - Elapsed Time: 0.04 seconds\n",
      "Progress: 49/70 - Elapsed Time: 0.04 seconds\n",
      "Progress: 50/70 - Elapsed Time: 0.04 seconds\n",
      "Progress: 51/70 - Elapsed Time: 0.04 seconds\n",
      "Progress: 52/70 - Elapsed Time: 0.04 seconds\n",
      "Progress: 53/70 - Elapsed Time: 0.04 seconds\n",
      "Progress: 54/70 - Elapsed Time: 0.04 seconds\n",
      "Progress: 55/70 - Elapsed Time: 0.04 seconds\n",
      "Progress: 56/70 - Elapsed Time: 0.04 seconds\n",
      "Progress: 57/70 - Elapsed Time: 0.05 seconds\n",
      "Progress: 58/70 - Elapsed Time: 0.05 seconds\n",
      "Progress: 59/70 - Elapsed Time: 0.05 seconds\n",
      "Progress: 60/70 - Elapsed Time: 0.05 seconds\n",
      "Progress: 61/70 - Elapsed Time: 0.05 seconds\n",
      "Progress: 62/70 - Elapsed Time: 0.05 seconds\n",
      "Progress: 63/70 - Elapsed Time: 0.05 seconds\n",
      "Progress: 64/70 - Elapsed Time: 0.05 seconds\n",
      "Progress: 65/70 - Elapsed Time: 0.05 seconds\n",
      "Progress: 66/70 - Elapsed Time: 0.05 seconds\n",
      "Progress: 67/70 - Elapsed Time: 0.05 seconds\n",
      "Progress: 68/70 - Elapsed Time: 0.05 seconds\n",
      "Progress: 69/70 - Elapsed Time: 0.05 seconds\n",
      "Progress: 70/70 - Elapsed Time: 0.05 seconds\n",
      "Precisión: 0.8429\n"
     ]
    }
   ],
   "source": [
    "from sklearn.metrics import accuracy_score\n",
    "from sklearn.model_selection import train_test_split\n",
    "from sklearn.neighbors import KNeighborsClassifier\n",
    "\n",
    "# Create a KNN classifier\n",
    "knn = KNN(n_neighbors=3, metric='cosine')\n",
    "knn.fit(X_train, y_train)\n",
    "# Fit the model to the training data\n",
    "\n",
    "# Predict on the test set\n",
    "y_pred = knn.predict(X_test)\n",
    "\n",
    "# Compute the accuracy score on the test set\n",
    "score = accuracy_score(y_test, y_pred)\n",
    "\n",
    "# Print the accuracy score\n",
    "print(f\"Precisión: {score:.4f}\")"
   ]
  },
  {
   "cell_type": "code",
   "execution_count": 349,
   "metadata": {},
   "outputs": [
    {
     "name": "stdout",
     "output_type": "stream",
     "text": [
      "Progress: 1/8 - Elapsed Time: 0.00 seconds\n",
      "Progress: 2/8 - Elapsed Time: 0.00 seconds\n",
      "Progress: 3/8 - Elapsed Time: 0.00 seconds\n",
      "Progress: 4/8 - Elapsed Time: 0.00 seconds\n",
      "Progress: 5/8 - Elapsed Time: 0.01 seconds\n",
      "Progress: 6/8 - Elapsed Time: 0.01 seconds\n",
      "Progress: 7/8 - Elapsed Time: 0.01 seconds\n",
      "Progress: 8/8 - Elapsed Time: 0.01 seconds\n",
      "Prediccion de Bayes\n",
      "Este comentario:: i hate this video No es spam \n",
      "\n",
      "Este comentario: pls contact me 55489701 free bitcoin Es spam \n",
      "\n",
      "Este comentario: check this channel https://www.youtube.com/watch?v=Ndslxwl9N-Y Es spam \n",
      "\n",
      "Este comentario: sub me pls and i will sub you back Es spam \n",
      "\n",
      "Este comentario: sus pls to my channel Es spam \n",
      "\n",
      "Este comentario:: this song is beeter in live No es spam \n",
      "\n",
      "Este comentario:: i dont know what im doing here No es spam \n",
      "\n",
      "Este comentario:: i love this video No es spam \n",
      "\n"
     ]
    }
   ],
   "source": [
    "# Preprocess the new comments\n",
    "new_comments = [\n",
    "     \"i hate this video\",\n",
    "    \"pls contact me 55489701 free bitcoin\",\n",
    "    \"check this channel https://www.youtube.com/watch?v=Ndslxwl9N-Y\",\n",
    "    \"sub me pls and i will sub you back\",\n",
    "    \"sus pls to my channel\",\n",
    "    \"this song is beeter in live\",\n",
    "    \"i dont know what im doing here\",\n",
    "    \"i love this video\",\n",
    "]\n",
    "new_comments_preprocessed = [preprocesar_comentario(comentario) for comentario in new_comments]\n",
    "\n",
    "# Make predictions on the new comments\n",
    "predictions = knn.predict(new_comments_preprocessed)\n",
    "print(\"Prediccion de Bayes\")\n",
    "# Print the predicted labels\n",
    "for comment, prediction in zip(new_comments, predictions):\n",
    "    if prediction == 1:\n",
    "        print(f\"Este comentario: {comment} Es spam \\n\")\n",
    "    else:\n",
    "        print(f\"Este comentario:: {comment} No es spam \\n\")\n"
   ]
  },
  {
   "cell_type": "code",
   "execution_count": 350,
   "metadata": {},
   "outputs": [],
   "source": [
    "from sklearn.decomposition import PCA\n",
    "# Reducir la dimensión de los datos a dos dimensiones utilizando PCA\n",
    "pca = PCA(n_components=5)\n",
    "x_train_pca = pca.fit_transform(X_train)\n",
    "x_test_pca = pca.transform(X_test)\n"
   ]
  },
  {
   "cell_type": "code",
   "execution_count": 351,
   "metadata": {},
   "outputs": [
    {
     "name": "stderr",
     "output_type": "stream",
     "text": [
      "No artists with labels found to put in legend.  Note that artists whose label start with an underscore are ignored when legend() is called with no argument.\n"
     ]
    },
    {
     "data": {
      "image/png": "[encoded data removed]",
      "text/plain": [
       "<Figure size 640x480 with 1 Axes>"
      ]
     },
     "metadata": {},
     "output_type": "display_data"
    }
   ],
   "source": [
    "colors = {0: 'green', 1: 'red'}\n",
    "markers = {0: 'o', 1: 's'}\n",
    "for i, (x, y) in enumerate(zip(x_test_pca, y_pred)):\n",
    "    plt.scatter(x[0], x[1], color=colors[y], marker=markers[y])\n",
    "plt.legend()\n",
    "plt.xlabel('First Principal Component')\n",
    "plt.ylabel('Second Principal Component')\n",
    "plt.title('KNN Predictions on PCA-Reduced Data')\n",
    "plt.show()"
   ]
  },
  {
   "cell_type": "markdown",
   "metadata": {},
   "source": [
    "## Asignación 5\n",
    "\n",
    "Entrene un modelo de Naive Bayes (utilizando la clase implementada anteriormente) y valide que su modelo generaliza bien."
   ]
  },
  {
   "cell_type": "code",
   "execution_count": 352,
   "metadata": {},
   "outputs": [],
   "source": [
    "reviews = data['CONTENT'].values\n",
    "labels = data['CLASS'].values\n",
    "encoder = LabelEncoder()\n",
    "encoded_labels = encoder.fit_transform(labels)\n",
    "train_sentences, test_sentences, train_labels, test_labels = train_test_split(reviews, encoded_labels, stratify = encoded_labels)"
   ]
  },
  {
   "cell_type": "code",
   "execution_count": 353,
   "metadata": {},
   "outputs": [
    {
     "name": "stderr",
     "output_type": "stream",
     "text": [
      "Counting words: 100%|██████████| 262/262 [00:00<00:00, 2518.66it/s]\n",
      "Predicting: 100%|██████████| 88/88 [00:00<00:00, 7997.81it/s]"
     ]
    },
    {
     "name": "stdout",
     "output_type": "stream",
     "text": [
      "Accuracy of prediction on test set :  0.8409090909090909\n"
     ]
    },
    {
     "name": "stderr",
     "output_type": "stream",
     "text": [
      "\n"
     ]
    }
   ],
   "source": [
    "nb = NaiveBayesClassifier()\n",
    "nb.fit(train_sentences, train_labels)\n",
    "pred = nb.predict(test_sentences)\n",
    "print(\"Accuracy of prediction on test set : \", accuracy_score(test_labels,pred))\n"
   ]
  },
  {
   "cell_type": "code",
   "execution_count": 354,
   "metadata": {},
   "outputs": [
    {
     "name": "stderr",
     "output_type": "stream",
     "text": [
      "Counting words: 100%|██████████| 262/262 [00:00<00:00, 2518.67it/s]\n",
      "Predicting: 100%|██████████| 1/1 [00:00<?, ?it/s]\n"
     ]
    },
    {
     "name": "stdout",
     "output_type": "stream",
     "text": [
      "El comentario \"i hate this video\" es spam.\n"
     ]
    },
    {
     "name": "stderr",
     "output_type": "stream",
     "text": [
      "Predicting: 100%|██████████| 1/1 [00:00<?, ?it/s]\n"
     ]
    },
    {
     "name": "stdout",
     "output_type": "stream",
     "text": [
      "El comentario \"pls contact me 55489701 free bitcoin\" es spam.\n"
     ]
    },
    {
     "name": "stderr",
     "output_type": "stream",
     "text": [
      "Predicting: 100%|██████████| 1/1 [00:00<?, ?it/s]\n"
     ]
    },
    {
     "name": "stdout",
     "output_type": "stream",
     "text": [
      "El comentario \"check this channel https://www.youtube.com/watch?v=Ndslxwl9N-Y\" es spam.\n"
     ]
    },
    {
     "name": "stderr",
     "output_type": "stream",
     "text": [
      "Predicting: 100%|██████████| 1/1 [00:00<?, ?it/s]\n"
     ]
    },
    {
     "name": "stdout",
     "output_type": "stream",
     "text": [
      "El comentario \"sub me pls and i will sub you back\" es spam.\n"
     ]
    },
    {
     "name": "stderr",
     "output_type": "stream",
     "text": [
      "Predicting: 100%|██████████| 1/1 [00:00<?, ?it/s]\n"
     ]
    },
    {
     "name": "stdout",
     "output_type": "stream",
     "text": [
      "El comentario \"sus pls to my channel\" es spam.\n"
     ]
    },
    {
     "name": "stderr",
     "output_type": "stream",
     "text": [
      "Predicting: 100%|██████████| 1/1 [00:00<?, ?it/s]\n"
     ]
    },
    {
     "name": "stdout",
     "output_type": "stream",
     "text": [
      "El comentario \"this song is beeter in live\" no es spam.\n"
     ]
    },
    {
     "name": "stderr",
     "output_type": "stream",
     "text": [
      "Predicting: 100%|██████████| 1/1 [00:00<?, ?it/s]\n"
     ]
    },
    {
     "name": "stdout",
     "output_type": "stream",
     "text": [
      "El comentario \"i dont know what im doing here\" es spam.\n"
     ]
    },
    {
     "name": "stderr",
     "output_type": "stream",
     "text": [
      "Predicting: 100%|██████████| 1/1 [00:00<?, ?it/s]"
     ]
    },
    {
     "name": "stdout",
     "output_type": "stream",
     "text": [
      "El comentario \"i love this video\" no es spam.\n"
     ]
    },
    {
     "name": "stderr",
     "output_type": "stream",
     "text": [
      "\n"
     ]
    }
   ],
   "source": [
    "def preprocesar_comentario(comentario):\n",
    "    # Realizar el preprocesamiento necesario, por ejemplo:\n",
    "    comentario = comentario.lower()\n",
    "    comentario = re.sub(r'\\d+', '', comentario)\n",
    "    comentario = re.sub(r'[^\\w\\s]', '', comentario)\n",
    "    comentario = comentario.strip()\n",
    "    stopwords = nltk.corpus.stopwords.words('english')\n",
    "    comentario = ' '.join([palabra for palabra in comentario.split() if palabra not in stopwords])\n",
    "    return comentario\n",
    "\n",
    "\n",
    "new_comments = [\n",
    "    \"i hate this video\",\n",
    "    \"pls contact me 55489701 free bitcoin\",\n",
    "    \"check this channel https://www.youtube.com/watch?v=Ndslxwl9N-Y\",\n",
    "    \"sub me pls and i will sub you back\",\n",
    "    \"sus pls to my channel\",\n",
    "    \"this song is beeter in live\",\n",
    "    \"i dont know what im doing here\",\n",
    "    \"i love this video\",\n",
    "]\n",
    "\n",
    "nb = NaiveBayesClassifier()\n",
    "nb.fit(train_sentences, train_labels)\n",
    "\n",
    "for x in new_comments:\n",
    "    nuevo_comentario_preprocesado = preprocesar_comentario(x)\n",
    "    es_spam = nb.predict([nuevo_comentario_preprocesado])[0]\n",
    "\n",
    "    if es_spam == 1:\n",
    "        print('El comentario \"{}\" es spam.'.format(x))\n",
    "    else:\n",
    "        print('El comentario \"{}\" no es spam.'.format(x))\n",
    "\n"
   ]
  }
 ],
 "metadata": {
  "kernelspec": {
   "display_name": "Python 3 (ipykernel)",
   "language": "python",
   "name": "python3"
  },
  "language_info": {
   "codemirror_mode": {
    "name": "ipython",
    "version": 3
   },
   "file_extension": ".py",
   "mimetype": "text/x-python",
   "name": "python",
   "nbconvert_exporter": "python",
   "pygments_lexer": "ipython3",
   "version": "3.9.12"
  }
 },
 "nbformat": 4,
 "nbformat_minor": 4
}
