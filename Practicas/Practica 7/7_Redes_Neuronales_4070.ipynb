{
 "cells": [
  {
   "cell_type": "code",
   "execution_count": null,
   "metadata": {
    "colab": {
     "base_uri": "https://localhost:8080/"
    },
    "id": "bRCL58REe3B-",
    "outputId": "4668d6c4-d81f-4334-891e-560c733e2889"
   },
   "outputs": [
    {
     "name": "stdout",
     "output_type": "stream",
     "text": [
      "Drive already mounted at /content/drive; to attempt to forcibly remount, call drive.mount(\"/content/drive\", force_remount=True).\n"
     ]
    }
   ],
   "source": [
    "from google.colab import drive\n",
    "drive.mount('/content/drive')"
   ]
  },
  {
   "cell_type": "code",
   "execution_count": null,
   "metadata": {
    "id": "yFiOruQdLxzM"
   },
   "outputs": [],
   "source": [
    "# Execute if necessary\n",
    "# %%capture\n",
    "# !pip install pandas\n",
    "# !pip install pytorchtools"
   ]
  },
  {
   "cell_type": "code",
   "execution_count": null,
   "metadata": {
    "id": "O0HQGm7dLxzP"
   },
   "outputs": [],
   "source": [
    "import zipfile\n",
    "import random\n",
    "import time\n",
    "import os\n",
    "import pandas as pd\n",
    "import numpy as np\n",
    "import matplotlib.pyplot as plt\n",
    "import matplotlib.colors as mcolors\n",
    "from collections import OrderedDict\n",
    "import json\n",
    "import subprocess\n",
    "import sys\n",
    "import xml.etree.ElementTree"
   ]
  },
  {
   "cell_type": "code",
   "execution_count": null,
   "metadata": {
    "id": "00EmWpKfprZR"
   },
   "outputs": [],
   "source": [
    "import torch\n",
    "import torch.nn as nn\n",
    "from torchvision import datasets, transforms\n",
    "import torch.utils.data as data\n",
    "from torch.utils.data import DataLoader\n",
    "import torch.nn.functional as F"
   ]
  },
  {
   "cell_type": "markdown",
   "metadata": {
    "id": "GYVI_IhM6MZo"
   },
   "source": [
    "### Plotting - Helpers"
   ]
  },
  {
   "cell_type": "code",
   "execution_count": null,
   "metadata": {
    "id": "qsCGnvPl6R-g"
   },
   "outputs": [],
   "source": [
    "def plot_training_loss(minibatch_losses, num_epochs, averaging_iterations=100, custom_label=''):\n",
    "\n",
    "    iter_per_epoch = len(minibatch_losses) // num_epochs\n",
    "\n",
    "    plt.figure()\n",
    "    ax1 = plt.subplot(1, 1, 1)\n",
    "    ax1.plot(range(len(minibatch_losses)),\n",
    "             (minibatch_losses), label=f'Minibatch Loss{custom_label}')\n",
    "    ax1.set_xlabel('Iterations')\n",
    "    ax1.set_ylabel('Loss')\n",
    "\n",
    "    if len(minibatch_losses) < 1000:\n",
    "        num_losses = len(minibatch_losses) // 2\n",
    "    else:\n",
    "        num_losses = 1000\n",
    "\n",
    "    ax1.set_ylim([\n",
    "        0, np.max(minibatch_losses[num_losses:])*1.5\n",
    "        ])\n",
    "\n",
    "    ax1.plot(np.convolve(minibatch_losses,\n",
    "                         np.ones(averaging_iterations,)/averaging_iterations,\n",
    "                         mode='valid'),\n",
    "             label=f'Running Average{custom_label}')\n",
    "    ax1.legend()\n",
    "\n",
    "    ###################\n",
    "    # Set scond x-axis\n",
    "    ax2 = ax1.twiny()\n",
    "    newlabel = list(range(num_epochs+1))\n",
    "\n",
    "    newpos = [e*iter_per_epoch for e in newlabel]\n",
    "\n",
    "    ax2.set_xticks(newpos[::10])\n",
    "    ax2.set_xticklabels(newlabel[::10])\n",
    "\n",
    "    ax2.xaxis.set_ticks_position('bottom')\n",
    "    ax2.xaxis.set_label_position('bottom')\n",
    "    ax2.spines['bottom'].set_position(('outward', 45))\n",
    "    ax2.set_xlabel('Epochs')\n",
    "    ax2.set_xlim(ax1.get_xlim())\n",
    "    ###################\n",
    "\n",
    "    plt.tight_layout()\n",
    "    \n",
    "    \n",
    "def plot_accuracy(train_acc, valid_acc):\n",
    "\n",
    "    num_epochs = len(train_acc)\n",
    "\n",
    "    plt.plot(np.arange(1, num_epochs+1), \n",
    "             train_acc, label='Training')\n",
    "    plt.plot(np.arange(1, num_epochs+1),\n",
    "             valid_acc, label='Validation')\n",
    "\n",
    "    plt.xlabel('Epoch')\n",
    "    plt.ylabel('Accuracy')\n",
    "    plt.legend()\n",
    "\n",
    "    plt.tight_layout()\n",
    "    \n",
    "    \n",
    "def plot_generated_images(data_loader, model, device, \n",
    "                          unnormalizer=None,\n",
    "                          figsize=(20, 2.5), n_images=15, modeltype='autoencoder'):\n",
    "\n",
    "    fig, axes = plt.subplots(nrows=2, ncols=n_images, \n",
    "                             sharex=True, sharey=True, figsize=figsize)\n",
    "    \n",
    "    for batch_idx, (features, _) in enumerate(data_loader):\n",
    "        \n",
    "        features = features.to(device)\n",
    "\n",
    "        color_channels = features.shape[1]\n",
    "        image_height = features.shape[2]\n",
    "        image_width = features.shape[3]\n",
    "        \n",
    "        with torch.no_grad():\n",
    "            if modeltype == 'autoencoder':\n",
    "                decoded_images = model(features)[:n_images]\n",
    "            elif modeltype == 'VAE':\n",
    "                encoded, z_mean, z_log_var, decoded_images = model(features)[:n_images]\n",
    "            else:\n",
    "                raise ValueError('`modeltype` not supported')\n",
    "\n",
    "        orig_images = features[:n_images]\n",
    "        break\n",
    "\n",
    "    for i in range(n_images):\n",
    "        for ax, img in zip(axes, [orig_images, decoded_images]):\n",
    "            curr_img = img[i].detach().to(torch.device('cpu'))        \n",
    "            if unnormalizer is not None:\n",
    "                curr_img = unnormalizer(curr_img)\n",
    "\n",
    "            if color_channels > 1:\n",
    "                curr_img = np.transpose(curr_img, (1, 2, 0))\n",
    "                ax[i].imshow(curr_img)\n",
    "            else:\n",
    "                ax[i].imshow(curr_img.view((image_height, image_width)), cmap='binary')\n",
    "                \n",
    "                \n",
    "def plot_latent_space_with_labels(num_classes, data_loader, encoding_fn, device):\n",
    "    d = {i:[] for i in range(num_classes)}\n",
    "\n",
    "    with torch.no_grad():\n",
    "        for i, (features, targets) in enumerate(data_loader):\n",
    "\n",
    "            features = features.to(device)\n",
    "            targets = targets.to(device)\n",
    "            \n",
    "            embedding = encoding_fn(features)\n",
    "\n",
    "            for i in range(num_classes):\n",
    "                if i in targets:\n",
    "                    mask = targets == i\n",
    "                    d[i].append(embedding[mask].to('cpu').numpy())\n",
    "\n",
    "    colors = list(mcolors.TABLEAU_COLORS.items())\n",
    "    for i in range(num_classes):\n",
    "        d[i] = np.concatenate(d[i])\n",
    "        plt.scatter(\n",
    "            d[i][:, 0], d[i][:, 1],\n",
    "            color=colors[i][1],\n",
    "            label=f'{i}',\n",
    "            alpha=0.5)\n",
    "\n",
    "    plt.legend()\n",
    "    \n",
    "    \n",
    "def plot_images_sampled_from_vae(model, device, latent_size, unnormalizer=None, num_images=10):\n",
    "\n",
    "    with torch.no_grad():\n",
    "\n",
    "        ##########################\n",
    "        ### RANDOM SAMPLE\n",
    "        ##########################    \n",
    "\n",
    "        rand_features = torch.randn(num_images, latent_size).to(device)\n",
    "        new_images = model.decoder(rand_features)\n",
    "        color_channels = new_images.shape[1]\n",
    "        image_height = new_images.shape[2]\n",
    "        image_width = new_images.shape[3]\n",
    "\n",
    "        ##########################\n",
    "        ### VISUALIZATION\n",
    "        ##########################\n",
    "\n",
    "        image_width = 28\n",
    "\n",
    "        fig, axes = plt.subplots(nrows=1, ncols=num_images, figsize=(10, 2.5), sharey=True)\n",
    "        decoded_images = new_images[:num_images]\n",
    "\n",
    "        for ax, img in zip(axes, decoded_images):\n",
    "            curr_img = img.detach().to(torch.device('cpu'))        \n",
    "            if unnormalizer is not None:\n",
    "                curr_img = unnormalizer(curr_img)\n",
    "\n",
    "            if color_channels > 1:\n",
    "                curr_img = np.transpose(curr_img, (1, 2, 0))\n",
    "                ax.imshow(curr_img)\n",
    "            else:\n",
    "                ax.imshow(curr_img.view((image_height, image_width)), cmap='binary') \n",
    "                \n",
    "                "
   ]
  },
  {
   "cell_type": "markdown",
   "metadata": {
    "id": "78n5tAZE6rZX"
   },
   "source": [
    "### Utils"
   ]
  },
  {
   "cell_type": "code",
   "execution_count": null,
   "metadata": {
    "id": "tpKPpt_Y6utP"
   },
   "outputs": [],
   "source": [
    "def set_deterministic():\n",
    "    if torch.cuda.is_available():\n",
    "        torch.backends.cudnn.benchmark = False\n",
    "        torch.backends.cudnn.deterministic = True\n",
    "    torch.set_deterministic(True)\n",
    "    \n",
    "    \n",
    "def set_all_seeds(seed):\n",
    "    os.environ[\"PL_GLOBAL_SEED\"] = str(seed)\n",
    "    random.seed(seed)\n",
    "    np.random.seed(seed)\n",
    "    torch.manual_seed(seed)\n",
    "    torch.cuda.manual_seed_all(seed)"
   ]
  },
  {
   "cell_type": "markdown",
   "metadata": {
    "id": "QAblxcIKLZI0"
   },
   "source": [
    "### Evaluate - Helpers"
   ]
  },
  {
   "cell_type": "code",
   "execution_count": null,
   "metadata": {
    "id": "iWHWDboYLdou"
   },
   "outputs": [],
   "source": [
    "def compute_epoch_loss_autoencoder(model, data_loader, loss_fn, device):\n",
    "    model.eval()\n",
    "    curr_loss, num_examples = 0., 0\n",
    "    with torch.no_grad():\n",
    "        for features, _ in data_loader:\n",
    "            features = features.to(device)\n",
    "            logits = model(features)\n",
    "            loss = loss_fn(logits, features, reduction='sum')\n",
    "            num_examples += features.size(0)\n",
    "            curr_loss += loss\n",
    "\n",
    "        curr_loss = curr_loss / num_examples\n",
    "        return curr_loss"
   ]
  },
  {
   "cell_type": "code",
   "execution_count": null,
   "metadata": {
    "id": "yUrZvRTgQxDY"
   },
   "outputs": [],
   "source": [
    "class EarlyStopper:\n",
    "    def __init__(self, patience=1, min_delta=0):\n",
    "        self.patience = patience\n",
    "        self.min_delta = min_delta\n",
    "        self.counter = 0\n",
    "        self.min_validation_loss = np.inf\n",
    "\n",
    "    def early_stop(self, validation_loss):\n",
    "        if validation_loss < self.min_validation_loss:\n",
    "            self.min_validation_loss = validation_loss\n",
    "            self.counter = 0\n",
    "        elif validation_loss > (self.min_validation_loss + self.min_delta):\n",
    "            self.counter += 1\n",
    "            if self.counter >= self.patience:\n",
    "                return True\n",
    "        return False"
   ]
  },
  {
   "cell_type": "markdown",
   "metadata": {
    "id": "SLvlPD_QLxzQ"
   },
   "source": [
    "# Práctica 7: Redes Neuronales (Autoencoders Variacionales)"
   ]
  },
  {
   "cell_type": "markdown",
   "metadata": {
    "id": "EgXbViXVLxzS"
   },
   "source": [
    "__Instrucciones__: A continuación hay una lista de funciones que debe implementar o tareas que debe desarrollar. La descripción de cada una de ellas se encuentra en la definición de cada una de las funciones.\n",
    "\n",
    "La entrega de la práctica será en la siguiente sesión a menos que la indicación sea otra. La revisión iniciará al iniciar la sesión y únicamente podrá ser evaluada durante la duración de la sesión."
   ]
  },
  {
   "cell_type": "markdown",
   "metadata": {
    "id": "X35Mj2_ELxzT"
   },
   "source": [
    "__Para esta práctica se deben usar bibliotecas__. Se recomienda el uso de:\n",
    "\n",
    "- scikit-learn (https://scikit-learn.org/stable/)\n",
    "- plotly express (https://plotly.com/python/plotly-express/)\n",
    "- torch (https://pytorch.org/)."
   ]
  },
  {
   "cell_type": "markdown",
   "metadata": {
    "id": "vZKq75JJLxzT"
   },
   "source": [
    "## Asignación 1\n",
    "\n",
    "Seleccione algun dataset de su preferencia para el cual sea viable entrenar un modelo generativo (VAE), preferentemente de imagenes (pequeñas). Particione sus datos para poder realizar selección de modelos (__conjunto de validación__)."
   ]
  },
  {
   "cell_type": "code",
   "execution_count": null,
   "metadata": {
    "id": "EeCWcPY-wPtH"
   },
   "outputs": [],
   "source": [
    "#with zipfile.ZipFile('/content/drive/MyDrive/ModeladoPredicitivo/all-dogs.zip','r') as zip_file:\n",
    "#  zip_file.extractall('/content/drive/MyDrive/ModeladoPredicitivo/all-dogs/dogs/')"
   ]
  },
  {
   "cell_type": "code",
   "execution_count": null,
   "metadata": {
    "colab": {
     "base_uri": "https://localhost:8080/"
    },
    "id": "OOdLsUw8xglJ",
    "outputId": "0dbd1f99-2b7b-4830-b951-d4530cfc4d78"
   },
   "outputs": [
    {
     "name": "stdout",
     "output_type": "stream",
     "text": [
      "20579\n"
     ]
    }
   ],
   "source": [
    "root = '/content/drive/MyDrive/ModeladoPredicitivo/all-dogs/dogs/all-dogs'\n",
    "img_list = os.listdir(root)\n",
    "print(len(img_list))"
   ]
  },
  {
   "cell_type": "code",
   "execution_count": null,
   "metadata": {
    "id": "dmUwcE5lwVAM"
   },
   "outputs": [],
   "source": [
    "root = '/content/drive/MyDrive/ModeladoPredicitivo/all-dogs/dogs/'\n",
    "dataset = datasets.ImageFolder(root, transform=transforms.Compose([\n",
    "                          transforms.RandomResizedCrop(64, scale=(0.9, 1.0), ratio=(1., 1.)),\n",
    "                          transforms.RandomHorizontalFlip(),\n",
    "                          transforms.ColorJitter(brightness=0.05, contrast=0.05, saturation=0.05, hue=0.05),\n",
    "                          transforms.ToTensor(),\n",
    "                      ]))"
   ]
  },
  {
   "cell_type": "code",
   "execution_count": null,
   "metadata": {
    "colab": {
     "base_uri": "https://localhost:8080/"
    },
    "id": "qrPd4jBXD7fv",
    "outputId": "37f22ad0-b147-41fd-a509-8c4affc1814b"
   },
   "outputs": [
    {
     "name": "stdout",
     "output_type": "stream",
     "text": [
      "train set: 16463 \n",
      "test_set: 4116\n"
     ]
    }
   ],
   "source": [
    "train_size = int(len(img_list) * 0.8)\n",
    "test_size = len(img_list) - train_size\n",
    "train_set, test_set = data.random_split(dataset, [train_size, test_size])\n",
    "print(f\"train set: {len(train_set)} \\ntest_set: {len(test_set)}\")"
   ]
  },
  {
   "cell_type": "code",
   "execution_count": null,
   "metadata": {
    "colab": {
     "base_uri": "https://localhost:8080/"
    },
    "id": "1FaTloF5L6DI",
    "outputId": "2a968d00-19f1-4f23-a86d-601812a891dd"
   },
   "outputs": [
    {
     "name": "stdout",
     "output_type": "stream",
     "text": [
      "<class 'torch.Tensor'>\n"
     ]
    }
   ],
   "source": [
    "print(type(train_set[0][0]))"
   ]
  },
  {
   "cell_type": "code",
   "execution_count": null,
   "metadata": {
    "colab": {
     "base_uri": "https://localhost:8080/",
     "height": 81
    },
    "id": "tfjd_XUGzXmF",
    "outputId": "92bb9133-42fc-422e-d157-a7685c3f485f"
   },
   "outputs": [
    {
     "data": {
      "image/png": "[encoded data removed]",
      "text/plain": [
       "<PIL.Image.Image image mode=RGB size=64x64 at 0x7FCFD71591B0>"
      ]
     },
     "metadata": {},
     "output_type": "display_data"
    }
   ],
   "source": [
    "tensor = train_set[0][0]\n",
    "transform = transforms.ToPILImage()\n",
    "img = transform(tensor)\n",
    "img.show()"
   ]
  },
  {
   "cell_type": "code",
   "execution_count": null,
   "metadata": {
    "colab": {
     "base_uri": "https://localhost:8080/",
     "height": 81
    },
    "id": "Ga3_cjl0znfg",
    "outputId": "9c2c5fdf-2f9a-46f9-8d50-754db5c5f2f2"
   },
   "outputs": [
    {
     "data": {
      "image/png": "[encoded data removed]",
      "text/plain": [
       "<PIL.Image.Image image mode=RGB size=64x64 at 0x7FCFD7159030>"
      ]
     },
     "metadata": {},
     "output_type": "display_data"
    }
   ],
   "source": [
    "tensor = test_set[0][0]\n",
    "transform = transforms.ToPILImage()\n",
    "img = transform(tensor)\n",
    "img.show()"
   ]
  },
  {
   "cell_type": "markdown",
   "metadata": {
    "id": "236I131OLxzU"
   },
   "source": [
    "## Asignación 2\n",
    "\n",
    "Realice un análisis exploratorio de datos y el preprocesamiento necesario para el dataset seleccionado."
   ]
  },
  {
   "cell_type": "markdown",
   "metadata": {
    "id": "U9YOdREkLxzU"
   },
   "source": [
    "## Asignación 3\n",
    "\n",
    "Ajuste un Autoencoder Variacional (VAE) que permita realizar la generación de nuevos datos. Debe generar las curvas de entrenamiento (y graficarlas) e implementar el método de early stopping para seleccionar el modelo más adecuado."
   ]
  },
  {
   "cell_type": "code",
   "execution_count": null,
   "metadata": {
    "colab": {
     "base_uri": "https://localhost:8080/"
    },
    "id": "S0Q0AV497GGY",
    "outputId": "be52c1d6-1ee3-4dc8-fa3e-8594939effe7"
   },
   "outputs": [
    {
     "name": "stdout",
     "output_type": "stream",
     "text": [
      "Running in : cuda\n"
     ]
    }
   ],
   "source": [
    "#Setings\n",
    "DEVICE = torch.device(f'cuda' if torch.cuda.is_available() else 'cpu')\n",
    "print(f\"Running in : {DEVICE}\")\n",
    "\n",
    "#HyperParams\n",
    "RANDOM_SEED = 123\n",
    "LEARNING_RATE = 3e-4\n",
    "BATCH_SIZE = 256\n",
    "EPOCHS = 50"
   ]
  },
  {
   "cell_type": "code",
   "execution_count": null,
   "metadata": {
    "id": "IThufp838uAY"
   },
   "outputs": [],
   "source": [
    "set_deterministic #Forces CUDA to use deterministic algorithms only\n",
    "set_all_seeds(RANDOM_SEED)"
   ]
  },
  {
   "cell_type": "code",
   "execution_count": null,
   "metadata": {
    "id": "QL2zH9-aA_aQ"
   },
   "outputs": [],
   "source": [
    "train_loader = DataLoader(dataset=train_set,\n",
    "                              batch_size=BATCH_SIZE,\n",
    "                              num_workers=0,\n",
    "                              shuffle=True)\n",
    "\n",
    "valid_loader = DataLoader(dataset=test_set,\n",
    "                              batch_size=BATCH_SIZE,\n",
    "                              num_workers=0,\n",
    "                              shuffle=False)"
   ]
  },
  {
   "cell_type": "code",
   "execution_count": null,
   "metadata": {
    "colab": {
     "base_uri": "https://localhost:8080/"
    },
    "id": "S66M8tai-zbv",
    "outputId": "3f27f5e0-e725-4924-d8d8-97aebe680472"
   },
   "outputs": [
    {
     "name": "stdout",
     "output_type": "stream",
     "text": [
      "Training Set:\n",
      "\n"
     ]
    }
   ],
   "source": [
    "# Checking the dataset\n",
    "print('Training Set:\\n')\n",
    "for images, labels in train_loader:  \n",
    "    print('Image batch dimensions:', images.size())\n",
    "    print('Image label dimensions:', labels.size())\n",
    "    #print(labels[:10])\n",
    "    break\n",
    "    \n",
    "# Checking the dataset\n",
    "print('\\nValidation Set:')\n",
    "for images, labels in valid_loader:  \n",
    "    print('Image batch dimensions:', images.size())\n",
    "    print('Image label dimensions:', labels.size())\n",
    "    #print(labels[:10])\n",
    "    break\n"
   ]
  },
  {
   "cell_type": "code",
   "execution_count": null,
   "metadata": {
    "id": "_em2Qg4nBzhI"
   },
   "outputs": [],
   "source": [
    "###MODEL\n",
    "class Reshape(nn.Module):\n",
    "    def __init__(self, *args):\n",
    "        super().__init__()\n",
    "        self.shape = args\n",
    "\n",
    "    def forward(self, x):\n",
    "        return x.view(self.shape)#The new dimension has to be compatible with the former\n",
    "\n",
    "\n",
    "class Trim(nn.Module):\n",
    "    def __init__(self, *args):\n",
    "        super().__init__()\n",
    "\n",
    "    def forward(self, x):\n",
    "        return x[:, :, :64, :64] #Trim the output layer to the size of the image\n",
    "\n",
    "\n",
    "class VAE(nn.Module):\n",
    "    def __init__(self):\n",
    "        super().__init__()\n",
    "        self.encoder = nn.Sequential(#Sequential container, modules wil be added to it in the order they are passed in \n",
    "                nn.Conv2d(3, 32, stride=2, kernel_size=3, bias=False, padding=1),\n",
    "                nn.BatchNorm2d(32), #Batch Normalization: Accelerating Deep Network Training by Reducing Internal Covariate Shift \n",
    "                nn.LeakyReLU(0.1, inplace=True),\n",
    "                nn.Dropout2d(0.25), #During training drop nodes and scale activations by (1-p)  p = drop probability\n",
    "                # (256,32,32,32)\n",
    "                nn.Conv2d(32, 64, stride=2, kernel_size=3, bias=False, padding=1),\n",
    "                nn.BatchNorm2d(64),\n",
    "                nn.LeakyReLU(0.1, inplace=True),\n",
    "                nn.Dropout2d(0.25),\n",
    "                # (256,64,16,16)\n",
    "                nn.Conv2d(64, 64, stride=2, kernel_size=3, bias=False, padding=1),\n",
    "                nn.BatchNorm2d(64),\n",
    "                nn.LeakyReLU(0.1, inplace=True),\n",
    "                nn.Dropout2d(0.25),\n",
    "                # (256,64,8,8)\n",
    "                nn.Conv2d(64, 64, stride=2, kernel_size=3, bias=False, padding=1),\n",
    "                nn.BatchNorm2d(64),\n",
    "                nn.LeakyReLU(0.1, inplace=True),\n",
    "                nn.Dropout2d(0.25),\n",
    "                # (256, 64, 4, 4)\n",
    "                nn.Flatten()#(256,1024)\n",
    "        )    \n",
    "        \n",
    "        self.z_mean = torch.nn.Linear(1024, 200)\n",
    "        self.z_log_var = torch.nn.Linear(1024, 200)\n",
    "        \n",
    "        self.decoder = nn.Sequential(\n",
    "                torch.nn.Linear(200, 1024),\n",
    "                Reshape(-1, 64, 4, 4),\n",
    "                # (256,64,4,4)\n",
    "                nn.ConvTranspose2d(64, 64, stride=2, kernel_size=3),\n",
    "                nn.BatchNorm2d(64),\n",
    "                nn.LeakyReLU(0.1, inplace=True),\n",
    "                nn.Dropout2d(0.25),\n",
    "                #(256,64,9,9)\n",
    "                nn.ConvTranspose2d(64, 64, stride=2, kernel_size=3, padding=1),\n",
    "                nn.BatchNorm2d(64),\n",
    "                nn.LeakyReLU(0.1, inplace=True),\n",
    "                nn.Dropout2d(0.25),\n",
    "                #(256,64,19,19)\n",
    "                nn.ConvTranspose2d(64, 32, stride=2, kernel_size=3, padding=1),\n",
    "                nn.BatchNorm2d(32),\n",
    "                nn.LeakyReLU(0.1, inplace=True),\n",
    "                nn.Dropout2d(0.25),\n",
    "                #(256,32,37,37)\n",
    "                nn.ConvTranspose2d(32, 3, stride=2, kernel_size=3, padding=1),\n",
    "                #(256,3,73,73)\n",
    "                Trim(),  # (256, 3, 64, 64)\n",
    "                nn.Sigmoid()\n",
    "                )\n",
    "\n",
    "\n",
    "    def encoding_fn(self, x):\n",
    "        x = self.encoder(x)\n",
    "        z_mean, z_log_var = self.z_mean(x), self.z_log_var(x)\n",
    "        encoded = self.reparameterize(z_mean, z_log_var)\n",
    "        return encoded\n",
    "\n",
    "    #Help us make the monte carlo estimate of the marginal likelihood differentiable by writing z in terms of epsilon   \n",
    "    def reparameterize(self, z_mu, z_log_var):\n",
    "        eps = torch.randn(z_mu.size(0), z_mu.size(1)).to(z_mu.get_device())\n",
    "        z = z_mu + eps * torch.exp(z_log_var/2.) \n",
    "        return z\n",
    "        \n",
    "    def forward(self, x):\n",
    "        x = self.encoder(x)\n",
    "        print(x.shape)\n",
    "        z_mean, z_log_var = self.z_mean(x), self.z_log_var(x)\n",
    "        print(z_mean, z_log_var)\n",
    "        encoded = self.reparameterize(z_mean, z_log_var)\n",
    "        decoded = self.decoder(encoded)\n",
    "        return encoded, z_mean, z_log_var, decoded"
   ]
  },
  {
   "cell_type": "code",
   "execution_count": null,
   "metadata": {
    "id": "d2fa3fx_IHxF"
   },
   "outputs": [],
   "source": [
    "set_all_seeds(RANDOM_SEED)\n",
    "\n",
    "model = VAE()\n",
    "model.to(DEVICE)\n",
    "\n",
    "#instead of the classical stochastic gradient descent procedure to update network weights iterative based in training data.\n",
    "optimizer = torch.optim.Adam(model.parameters(), lr=LEARNING_RATE)  "
   ]
  },
  {
   "cell_type": "code",
   "execution_count": null,
   "metadata": {
    "id": "clt4BWfAJda7"
   },
   "outputs": [],
   "source": [
    "#Training\n",
    "def train_vae_v1(num_epochs, model, optimizer, device, \n",
    "                 train_loader, valid_loader, loss_fn=None,\n",
    "                 logging_interval=100, \n",
    "                 skip_epoch_stats=False,\n",
    "                 reconstruction_term_weight=1,\n",
    "                 save_model=None):\n",
    "    \n",
    "    log_dict = {'train_combined_loss_per_batch': [],\n",
    "                'train_combined_loss_per_epoch': [],\n",
    "                'test_combined_loss_per_epoch': [],\n",
    "                'train_reconstruction_loss_per_batch': [],\n",
    "                'train_kl_loss_per_batch': []}\n",
    "\n",
    "\n",
    "\n",
    "    if loss_fn is None:\n",
    "        loss_fn = F.mse_loss\n",
    "\n",
    "    start_time = time.time()\n",
    "    early_stopper = EarlyStopper(patience=3, min_delta=10)\n",
    "    for epoch in range(num_epochs):\n",
    "\n",
    "        model.train()\n",
    "        for batch_idx, (features, _) in enumerate(train_loader):\n",
    "            print(features.shape)\n",
    "            features = features.to(device)\n",
    "\n",
    "            # FORWARD AND BACK PROP\n",
    "            encoded, z_mean, z_log_var, decoded = model.forward(features)\n",
    "            \n",
    "            # total loss = reconstruction loss + KL divergence\n",
    "            kl_div = -0.5 * torch.sum(1 + z_log_var \n",
    "                                      - z_mean**2 \n",
    "                                      - torch.exp(z_log_var), \n",
    "                                      axis=1) # sum over latent dimension\n",
    "\n",
    "            batchsize = kl_div.size(0)\n",
    "            kl_div = kl_div.mean() # average over batch dimension\n",
    "    \n",
    "            pixelwise = loss_fn(decoded, features, reduction='none')\n",
    "            pixelwise = pixelwise.view(batchsize, -1).sum(axis=1) # sum over pixels\n",
    "            pixelwise = pixelwise.mean() # average over batch dimension\n",
    "            \n",
    "            loss = reconstruction_term_weight*pixelwise + kl_div\n",
    "            \n",
    "            optimizer.zero_grad()\n",
    "\n",
    "            loss.backward()\n",
    "\n",
    "            # UPDATE MODEL PARAMETERS\n",
    "            optimizer.step()\n",
    "\n",
    "            # LOGGING\n",
    "            log_dict['train_combined_loss_per_batch'].append(loss.item())\n",
    "            log_dict['train_reconstruction_loss_per_batch'].append(pixelwise.item())\n",
    "            log_dict['train_kl_loss_per_batch'].append(kl_div.item())\n",
    "            \n",
    "            if not batch_idx % logging_interval:\n",
    "                print('Epoch: %03d/%03d | Batch %04d/%04d | Loss: %.4f'\n",
    "                      % (epoch+1, num_epochs, batch_idx,\n",
    "                          len(train_loader), loss))\n",
    "\n",
    "        if not skip_epoch_stats:\n",
    "            model.eval()\n",
    "            \n",
    "            with torch.set_grad_enabled(False):  # save memory during inference\n",
    "                \n",
    "                train_loss = compute_epoch_loss_autoencoder(\n",
    "                    model, train_loader, loss_fn, device)\n",
    "                print('***Epoch: %03d/%03d | Loss: %.3f' % (\n",
    "                      epoch+1, num_epochs, train_loss))\n",
    "                log_dict['train_combined_per_epoch'].append(train_loss.item())\n",
    "\n",
    "                #validation\n",
    "                validation_loss = compute_epoch_loss_autoencoder(\n",
    "                    model, valid_loader, loss_fn, device)\n",
    "                print('***Epoch: %03d/%03d | Loss: %.3f' % (\n",
    "                      epoch+1, num_epochs, validation_loss))\n",
    "                log_dict['test_combined_per_epoch'].append(validation_loss.item())\n",
    "\n",
    "        print('Time elapsed: %.2f min' % ((time.time() - start_time)/60))\n",
    "\n",
    "        if early_stopper.early_stop(validation_loss):             \n",
    "          break\n",
    "    \n",
    "    print('Total Training Time: %.2f min' % ((time.time() - start_time)/60))\n",
    "    if save_model is not None:\n",
    "        torch.save(model.state_dict(), save_model)\n",
    "\n",
    "    return log_dict"
   ]
  },
  {
   "cell_type": "code",
   "execution_count": null,
   "metadata": {
    "id": "umLC9ITrIRlE"
   },
   "outputs": [],
   "source": [
    "#Training\n",
    "log_dict = train_vae_v1(num_epochs=EPOCHS, model=model, \n",
    "                        optimizer=optimizer, device=DEVICE, \n",
    "                        train_loader=train_loader,\n",
    "                        valid_loader = valid_loader,\n",
    "                        skip_epoch_stats=True,\n",
    "                        logging_interval=50,\n",
    "                        save_model='/content/drive/MyDrive/ModeladoPredicitivo/vae_doggos.pt')"
   ]
  },
  {
   "cell_type": "code",
   "execution_count": null,
   "metadata": {
    "id": "kRIKxaR6UnQi"
   },
   "outputs": [],
   "source": [
    "plot_training_loss(log_dict['train_reconstruction_loss_per_batch'], NUM_EPOCHS, custom_label=\" (reconstruction)\")\n",
    "plot_training_loss(log_dict['train_kl_loss_per_batch'], NUM_EPOCHS, custom_label=\" (KL)\")\n",
    "plot_training_loss(log_dict['train_combined_loss_per_batch'], NUM_EPOCHS, custom_label=\" (combined)\")\n",
    "plt.show()"
   ]
  },
  {
   "cell_type": "markdown",
   "metadata": {
    "id": "uGxPEngwLxzV"
   },
   "source": [
    "## Asignación 4\n",
    "\n",
    "Realice la generación de nuevos datos utilizando su modelo. Debe generar evidencia sobre el correcto funcionamiento de su modelo."
   ]
  },
  {
   "cell_type": "code",
   "execution_count": null,
   "metadata": {
    "id": "F5DiHgBlS1jx"
   },
   "outputs": [],
   "source": [
    "#train set\n",
    "plot_generated_images(data_loader=train_loader,\n",
    "                      model=model,\n",
    "                      #unnormalizer=unnormalizer,\n",
    "                      device=DEVICE,\n",
    "                      modeltype='VAE')         "
   ]
  },
  {
   "cell_type": "code",
   "execution_count": null,
   "metadata": {
    "id": "aVHWbaSx5qBR"
   },
   "outputs": [],
   "source": [
    "#test set\n",
    "plot_generated_images(data_loader=test_loader,\n",
    "                      model=model,\n",
    "                      #unnormalizer=unnormalizer,\n",
    "                      device=DEVICE,\n",
    "                      modeltype='VAE')         "
   ]
  },
  {
   "cell_type": "code",
   "execution_count": null,
   "metadata": {
    "id": "wAmfjxMh5t18"
   },
   "outputs": [],
   "source": [
    "for i in range(10):\n",
    "    plot_images_sampled_from_vae(model=model, device=DEVICE, latent_size=200)\n",
    "    plt.show()"
   ]
  }
 ],
 "metadata": {
  "accelerator": "GPU",
  "colab": {
   "collapsed_sections": [
    "GYVI_IhM6MZo",
    "78n5tAZE6rZX",
    "QAblxcIKLZI0"
   ],
   "gpuType": "T4",
   "provenance": []
  },
  "kernelspec": {
   "display_name": "Python 3 (ipykernel)",
   "language": "python",
   "name": "python3"
  },
  "language_info": {
   "codemirror_mode": {
    "name": "ipython",
    "version": 3
   },
   "file_extension": ".py",
   "mimetype": "text/x-python",
   "name": "python",
   "nbconvert_exporter": "python",
   "pygments_lexer": "ipython3",
   "version": "3.10.9"
  }
 },
 "nbformat": 4,
 "nbformat_minor": 1
}
